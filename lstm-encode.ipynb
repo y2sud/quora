{
 "cells": [
  {
   "cell_type": "code",
   "execution_count": 5,
   "metadata": {
    "collapsed": false
   },
   "outputs": [],
   "source": [
    "import numpy as np, os , pandas as pd, string, math, re, sys\n",
    "from keras.layers.recurrent import LSTM\n",
    "from keras.models import Sequential\n",
    "from keras.layers.core import Activation, Dense\n",
    "from keras.models import load_model\n",
    "from keras.layers import RepeatVector\n",
    "#import Input, Embedding, LSTM, Dense, Merge, merge\n",
    "from sklearn.model_selection import train_test_split\n",
    "from keras.utils.np_utils import to_categorical\n",
    "from keras.callbacks import EarlyStopping\n",
    "from keras.optimizers import SGD"
   ]
  },
  {
   "cell_type": "code",
   "execution_count": 6,
   "metadata": {
    "collapsed": true
   },
   "outputs": [],
   "source": [
    "early_stop = EarlyStopping(patience=2)"
   ]
  },
  {
   "cell_type": "code",
   "execution_count": null,
   "metadata": {
    "collapsed": false
   },
   "outputs": [],
   "source": [
    "# Load the training csv\n",
    "path = r'/home/test/kaggle'\n",
    "os.chdir(path)\n",
    "print path\n",
    "data = pd.read_csv('train.csv')\n",
    "%pwd"
   ]
  },
  {
   "cell_type": "code",
   "execution_count": 3,
   "metadata": {
    "collapsed": true
   },
   "outputs": [],
   "source": [
    "#Process Question1 column or Question2 column\n",
    "process = 'q1' "
   ]
  },
  {
   "cell_type": "code",
   "execution_count": null,
   "metadata": {
    "collapsed": true
   },
   "outputs": [],
   "source": [
    "#del data_2, data_2_t, all_2, X_train2"
   ]
  },
  {
   "cell_type": "code",
   "execution_count": null,
   "metadata": {
    "collapsed": false
   },
   "outputs": [],
   "source": [
    "# data_1 for Question1 & data_2 for Question2\n",
    "\n",
    "if process == 'q1':\n",
    "    data_1 = data['question1']\n",
    "else:\n",
    "    data_2 = data['question2']\n",
    "\n",
    "    out = data['is_duplicate']\n",
    "print out.shape"
   ]
  },
  {
   "cell_type": "code",
   "execution_count": null,
   "metadata": {
    "collapsed": false
   },
   "outputs": [],
   "source": [
    "#del X_train2"
   ]
  },
  {
   "cell_type": "code",
   "execution_count": null,
   "metadata": {
    "collapsed": false
   },
   "outputs": [],
   "source": [
    "#save space\n",
    "#sys.getsizeof(data) / float(1000000)\n",
    "\n",
    "#del data\n",
    "if process == 'q1':\n",
    "    if X_train2.any():\n",
    "        del X_train2\n",
    "    if all_2.any():\n",
    "        del all_2    \n",
    "else:\n",
    "    if X_train1.any():\n",
    "        del X_train1\n",
    "    if all_1.any():\n",
    "        del all_1"
   ]
  },
  {
   "cell_type": "code",
   "execution_count": 4,
   "metadata": {
    "collapsed": true
   },
   "outputs": [],
   "source": [
    "# Find the vector representation for every word in the passed \n",
    "# numpy array of sentences, using word2vec model from google\n",
    "def data_vector(arr_sent):\n",
    "    main = []\n",
    "    ii = 0\n",
    "    for ind , sent in enumerate(arr_sent):\n",
    "        #print 'array of sentences: ' , arr_sent\n",
    "        #print 'index: ' , ind\n",
    "        #print type(sent)\n",
    "        if type(sent) == 'numpy.string_':\n",
    "            tokens = np.array_str(sent)\n",
    "        else:\n",
    "            tokens = sent\n",
    "        #print 'tokens: ' , tokens\n",
    "        new = tokens.translate(None,string.punctuation).strip()\n",
    "        \n",
    "        #filteredtokens = np.zeros((0),dtype=int)\n",
    "        if new == '':\n",
    "            filteredtokens = np.repeat('0',timesteps)\n",
    "        else:\n",
    "            filteredtokens = np.array(filter(lambda x : x in w2vmodel.vocab,new.split(' ')))\n",
    "        diff = timesteps - len(filteredtokens)\n",
    "        if diff <= 0:\n",
    "            diff = 0\n",
    "        filteredtokens = np.append(filteredtokens,\n",
    "                                   ['0' for jj in range(diff)])\n",
    "                          \n",
    "        #print len(filteredtokens) , filteredtokens.shape\n",
    "        #print '0. ' , filteredtokens    \n",
    "\n",
    "        subset = filteredtokens[:timesteps]\n",
    "\n",
    "        temp = []\n",
    "        for seq , word in enumerate(subset):\n",
    "            #print seq , word\n",
    "            vect = w2vmodel[word]\n",
    "            #print vect.shape\n",
    "            temp.append(vect)\n",
    "        if ii == 999999:\n",
    "            print ii , 'new ' , new\n",
    "            #print 'temp ' , temp\n",
    "            #print 'tokens ' , filteredtokens\n",
    "        ii += 1\n",
    "        main.append(temp)\n",
    "        #print '1. main shape ' , np.array(main).shape\n",
    "    #print '2 ' , type(temp) , type(main)\n",
    "    fil = np.array(main)\n",
    "\n",
    "    \n",
    "    return fil\n"
   ]
  },
  {
   "cell_type": "code",
   "execution_count": null,
   "metadata": {
    "collapsed": false
   },
   "outputs": [],
   "source": [
    "# Build numpy arary\n",
    "\n",
    "if process == 'q1':\n",
    "    data_1_t = np.array(data_1,dtype='str')\n",
    "else:\n",
    "    data_2_t = np.array(data_2,dtype='str')\n",
    "all_out = np.array(out)"
   ]
  },
  {
   "cell_type": "code",
   "execution_count": 5,
   "metadata": {
    "collapsed": false
   },
   "outputs": [
    {
     "name": "stderr",
     "output_type": "stream",
     "text": [
      "/home/test/miniconda2/lib/python2.7/site-packages/gensim/utils.py:1015: UserWarning: Pattern library is not installed, lemmatization won't be available.\n",
      "  warnings.warn(\"Pattern library is not installed, lemmatization won't be available.\")\n"
     ]
    }
   ],
   "source": [
    "from gensim.models import Doc2Vec, doc2vec, Word2Vec"
   ]
  },
  {
   "cell_type": "code",
   "execution_count": 6,
   "metadata": {
    "collapsed": true
   },
   "outputs": [],
   "source": [
    "# This is a readymade model from Google. It contains vector \n",
    "# representation for around 3 million words.\n",
    "def load_w2v():\n",
    "    fname = \"/home/test/word2vec/GoogleNews-vectors-negative300.bin\"\n",
    "    w2vmodel = Doc2Vec.load_word2vec_format(fname,binary=True)\n",
    "    return w2vmodel\n",
    "\n",
    "w2vmodel = load_w2v()\n",
    "#w2vmodel.save('w2vmodel.h5')"
   ]
  },
  {
   "cell_type": "markdown",
   "metadata": {},
   "source": [
    "Break"
   ]
  },
  {
   "cell_type": "code",
   "execution_count": 7,
   "metadata": {
    "collapsed": false
   },
   "outputs": [
    {
     "name": "stdout",
     "output_type": "stream",
     "text": [
      "q1\n"
     ]
    }
   ],
   "source": [
    "# Set parameters\n",
    "np.random.seed(223)\n",
    "print process\n",
    "#For question1, average number of words=10; for question2, it is 52\n",
    "if process == 'q1':\n",
    "    timesteps = 10\n",
    "else:\n",
    "    timesteps = 50\n",
    "\n",
    "# The number of dimensions of each word when it is transformed to\n",
    "# a vector/tensor\n",
    "dimensions = 300\n",
    "\n",
    "batch_size = 64\n",
    "epochs_number = 4"
   ]
  },
  {
   "cell_type": "code",
   "execution_count": null,
   "metadata": {
    "collapsed": false
   },
   "outputs": [],
   "source": [
    "# Build vector representation of sequence of words in a sentence/question\n",
    "\n",
    "# Input size is ~440k, but due to spaces constraint select only few\n",
    "x = 200000\n",
    "\n",
    "if process == 'q1':\n",
    "    all_1 = data_vector(data_1_t[:x])\n",
    "else:\n",
    "    all_2 = data_vector(data_2_t[:x])\n",
    "\n"
   ]
  },
  {
   "cell_type": "code",
   "execution_count": null,
   "metadata": {
    "collapsed": false
   },
   "outputs": [],
   "source": [
    "if process == 'q1':\n",
    "    print all_1.shape , data_1_t.shape\n",
    "else:\n",
    "    print all_2.shape , data_2_t.shape\n"
   ]
  },
  {
   "cell_type": "code",
   "execution_count": null,
   "metadata": {
    "collapsed": false
   },
   "outputs": [],
   "source": [
    "\n",
    "#del all_2 \n",
    "if process == 'q1':    \n",
    "    #del data_1_t, data_1\n",
    "    print sys.getsizeof(all_1) / float(1000000)\n",
    "    print all_1.shape\n",
    "else:\n",
    "    #del data_2_t, data_2\n",
    "    print sys.getsizeof(all_2) / float(1000000)\n",
    "    print all_2.shape\n",
    "\n"
   ]
  },
  {
   "cell_type": "code",
   "execution_count": null,
   "metadata": {
    "collapsed": false
   },
   "outputs": [],
   "source": [
    "if process == 'q1':\n",
    "    X_train1, _, y_train1, _ = train_test_split(all_1[:x],all_out[:x],test_size=0.3,random_state=42,stratify=all_out[:x])\n",
    "else:\n",
    "    X_train2, _, _, _ = train_test_split(all_2[:x],all_out[:x],test_size=0.3,random_state=42,stratify=all_out[:x])\n"
   ]
  },
  {
   "cell_type": "code",
   "execution_count": null,
   "metadata": {
    "collapsed": false
   },
   "outputs": [],
   "source": [
    "if process == 'q1':\n",
    "    print X_train1.shape\n",
    "else:\n",
    "    print X_train2.shape"
   ]
  },
  {
   "cell_type": "code",
   "execution_count": null,
   "metadata": {
    "collapsed": false
   },
   "outputs": [],
   "source": [
    "# Build LSTM/RNN encoder - that is, build a model such that input = output.. both X_train1\n",
    "\n",
    "model = Sequential()\n",
    "# Out dimen=64\n",
    "model.add(LSTM(64,input_shape=(timesteps,dimensions),return_sequences=True))\n",
    "# Out dimen=32\n",
    "model.add(LSTM(32,input_shape=(timesteps,dimensions),return_sequences=True))\n",
    "# Out dimen=300\n",
    "model.add(LSTM(300,return_sequences=True))\n",
    "# Linear activation\n",
    "model.add(Activation('linear'))\n",
    "#model.add(RepeatVector(timesteps))\n",
    "#model.add(LSTM(dimensions,return_sequences=True))\n",
    "#model.add(LSTM(8))"
   ]
  },
  {
   "cell_type": "code",
   "execution_count": null,
   "metadata": {
    "collapsed": false
   },
   "outputs": [],
   "source": [
    "# Compile the mode\n",
    "\n",
    "#model.add(Dropout(0.2))\n",
    "#model.add(Dense(10,activation='sigmoid',name='d2'))\n",
    "#model.add(Dense(1,input_dim=10,activation='sigmoid',name='d3'))\n",
    "model.compile(loss=\"mse\", optimizer='rmsprop',metric=['accuracy'])\n"
   ]
  },
  {
   "cell_type": "code",
   "execution_count": null,
   "metadata": {
    "collapsed": true
   },
   "outputs": [],
   "source": [
    "model.loss"
   ]
  },
  {
   "cell_type": "code",
   "execution_count": null,
   "metadata": {
    "collapsed": false
   },
   "outputs": [],
   "source": [
    "# Build the encoder\n",
    "if process == 'q1':\n",
    "    model.fit(X_train1,X_train1,nb_epoch=5,callbacks=[early_stop])\n",
    "else:\n",
    "    model.fit(X_train2,X_train2,nb_epoch=5,callbacks=[early_stop])"
   ]
  },
  {
   "cell_type": "code",
   "execution_count": null,
   "metadata": {
    "collapsed": false
   },
   "outputs": [],
   "source": [
    "#score = model.evaluate(X_train1,y_train1)"
   ]
  },
  {
   "cell_type": "code",
   "execution_count": null,
   "metadata": {
    "collapsed": false
   },
   "outputs": [],
   "source": [
    "print model.metrics_names\n",
    "print model.get_config()\n",
    "model.summary()"
   ]
  },
  {
   "cell_type": "code",
   "execution_count": null,
   "metadata": {
    "collapsed": false
   },
   "outputs": [],
   "source": [
    "#print score"
   ]
  },
  {
   "cell_type": "code",
   "execution_count": null,
   "metadata": {
    "collapsed": false
   },
   "outputs": [],
   "source": [
    "os.chdir(\"/home/test/Sentiment-Analysis\")\n",
    "model.save('model_q1_lstm_rand42.h5')\n",
    "\n",
    "json_str = model.to_json()\n",
    "model.save_weights('model_q1_lstm_rand42_weights.h5')\n",
    "fil = open('q1_rand42.json','w')\n",
    "fil.write(json_str)\n",
    "fil.close()"
   ]
  },
  {
   "cell_type": "code",
   "execution_count": null,
   "metadata": {
    "collapsed": true
   },
   "outputs": [],
   "source": [
    "from sklearn import svm\n",
    "from sklearn.model_selection import GridSearchCV as gcv, RandomizedSearchCV as rcv"
   ]
  },
  {
   "cell_type": "code",
   "execution_count": null,
   "metadata": {
    "collapsed": true
   },
   "outputs": [],
   "source": [
    "os.chdir(\"/home/test/Sentiment-Analysis\")\n",
    "q1_model = load_model('model_q1_lstm_rand42.h5')\n",
    "model = q1_model"
   ]
  },
  {
   "cell_type": "code",
   "execution_count": null,
   "metadata": {
    "collapsed": false
   },
   "outputs": [],
   "source": [
    "w = model.get_weights()\n",
    "print len(model.layers[1].get_weights())\n",
    "model1 = Sequential()\n",
    "model1.add(LSTM(64,input_shape=(timesteps,dimensions),return_sequences=True,weights=model.layers[0].get_weights()))\n",
    "model1.add(LSTM(32,input_shape=(timesteps,dimensions),return_sequences=True,weights=model.layers[1].get_weights()))\n",
    "#model1.add(LSTM(300,return_sequences=True))\n",
    "model1.add(Activation('linear'))"
   ]
  },
  {
   "cell_type": "code",
   "execution_count": null,
   "metadata": {
    "collapsed": false
   },
   "outputs": [],
   "source": [
    "#sys.getsizeof(all_1) / float(1000000)\n",
    "#del all_1\n",
    "out_q1 = model1.predict(X_train1)\n",
    "#test_q1 = model1.predict(X_test1)\n",
    "print out_q1.shape, out_q1.shape"
   ]
  },
  {
   "cell_type": "code",
   "execution_count": null,
   "metadata": {
    "collapsed": false
   },
   "outputs": [],
   "source": [
    "sys.getsizeof(out_q1) / 1000000\n",
    "#del out_q1"
   ]
  },
  {
   "cell_type": "code",
   "execution_count": null,
   "metadata": {
    "collapsed": false
   },
   "outputs": [],
   "source": [
    "os.chdir(\"/home/test/Sentiment-Analysis\")\n",
    "q2_model = load_model('model_q2_lstm_rand42.h5')\n",
    "model = q2_model"
   ]
  },
  {
   "cell_type": "code",
   "execution_count": null,
   "metadata": {
    "collapsed": false
   },
   "outputs": [],
   "source": [
    "w = model.get_weights()\n",
    "print len(model.layers[1].get_weights())\n",
    "model1 = Sequential()\n",
    "model1.add(LSTM(64,input_shape=(timesteps,dimensions),return_sequences=True,weights=model.layers[0].get_weights()))\n",
    "model1.add(LSTM(32,input_shape=(timesteps,dimensions),return_sequences=True,weights=model.layers[1].get_weights()))\n",
    "#model1.add(LSTM(300,return_sequences=True))\n",
    "model1.add(Activation('linear'))"
   ]
  },
  {
   "cell_type": "code",
   "execution_count": null,
   "metadata": {
    "collapsed": false
   },
   "outputs": [],
   "source": [
    "out_q2 = model1.predict(X_train2)\n",
    "#test_q2 = model1.predict(X_test2)\n",
    "print out_q2.shape, out_q2.shape\n",
    "sys.getsizeof(out_q2) / 1000000"
   ]
  },
  {
   "cell_type": "code",
   "execution_count": null,
   "metadata": {
    "collapsed": false
   },
   "outputs": [],
   "source": [
    "print out_q2.shape, out_q1.shape\n",
    "print np.array_equal(out_q1, out_q2)"
   ]
  },
  {
   "cell_type": "code",
   "execution_count": null,
   "metadata": {
    "collapsed": false
   },
   "outputs": [],
   "source": [
    "out_add = out_q1[:,9,:] + out_q2[:,49,:]\n",
    "out_mul = out_q1[:,9,:] * out_q2[:,49,:]\n",
    "out_X = np.hstack((out_add,out_mul))\n",
    "#out_X = np.hstack((out_q1[:,9,:],out_q2[:,49,:]))\n",
    "\n",
    "#del out_tot\n",
    "print out_add.shape, out_mul.shape, out_X.shape"
   ]
  },
  {
   "cell_type": "code",
   "execution_count": null,
   "metadata": {
    "collapsed": false
   },
   "outputs": [],
   "source": [
    "mod = svm.SVC()\n",
    "params = {'kernel':['linear','rbf'], 'C':[1,10] , 'gamma':[0.001,0.01]}\n",
    "#svmmodel = rcv(mod,params,cv=3,n_iter=2)\n",
    "#del svmmodel\n",
    "svmmodel = svm.SVC(C=1,gamma=.0001,probability=True)\n",
    "print svmmodel"
   ]
  },
  {
   "cell_type": "code",
   "execution_count": null,
   "metadata": {
    "collapsed": false
   },
   "outputs": [],
   "source": [
    "svmmodel.fit(out_X,y_train1)"
   ]
  },
  {
   "cell_type": "code",
   "execution_count": null,
   "metadata": {
    "collapsed": false
   },
   "outputs": [],
   "source": [
    "#svmmodel.metrics\n",
    "#print score\n",
    "#svmmodel.get_config()\n",
    "print svmmodel.get_params()\n",
    "svmmodel\n",
    "#w = m.get_weights()"
   ]
  },
  {
   "cell_type": "code",
   "execution_count": null,
   "metadata": {
    "collapsed": true
   },
   "outputs": [],
   "source": [
    "#y_pred = svmmodel.predict(out_X)\n",
    "y_pred11 = svmmodel.predict(out_X)"
   ]
  },
  {
   "cell_type": "code",
   "execution_count": null,
   "metadata": {
    "collapsed": false
   },
   "outputs": [],
   "source": [
    "from sklearn.externals import joblib"
   ]
  },
  {
   "cell_type": "code",
   "execution_count": null,
   "metadata": {
    "collapsed": false
   },
   "outputs": [],
   "source": [
    "os.chdir(\"/home/test/Sentiment-Analysis\")\n",
    "joblib.dump(svmmodel,'svm.pkl')\n",
    "#svmmodel1 = joblib.load('svm.pkl')\n",
    "#svmmodel1"
   ]
  },
  {
   "cell_type": "code",
   "execution_count": null,
   "metadata": {
    "collapsed": true
   },
   "outputs": [],
   "source": [
    "def logloss(p,y,roundoff=False):\n",
    "    tot = 0\n",
    "    for i in range(len(p)):\n",
    "        pred ,actual  = p[i] , y[i]\n",
    "        if roundoff:\n",
    "            if p[i] >= 0.5:\n",
    "                pred = 0.99\n",
    "            else:\n",
    "                pred = 0.01\n",
    "        else:\n",
    "            if p[i] == 0:\n",
    "                pred = .01\n",
    "            else:\n",
    "                pred = 0.99\n",
    "        tot += actual * math.log(pred) + (1-actual) * math.log(1-pred)\n",
    "    return -tot /  len(p)\n"
   ]
  },
  {
   "cell_type": "code",
   "execution_count": null,
   "metadata": {
    "collapsed": false
   },
   "outputs": [],
   "source": [
    "#print y_pred1.shape , y_train1.shape \n",
    "print logloss(y_pred22,y_train1)\n",
    "#print logloss(y_pred2,test_Y,True)\n",
    "#y_pred1[:4] , y_train1[:4]\n",
    "#print svmmodel.score(out_X,y_train1)"
   ]
  },
  {
   "cell_type": "code",
   "execution_count": null,
   "metadata": {
    "collapsed": true
   },
   "outputs": [],
   "source": []
  },
  {
   "cell_type": "code",
   "execution_count": null,
   "metadata": {
    "collapsed": false
   },
   "outputs": [],
   "source": [
    "correct, wrong = 0, 0\n",
    "pred , test  = out_Y , out_cat\n",
    "for i in range(len(pred)):\n",
    "    y = test[i]\n",
    "    if pred[i] >= 0.5:\n",
    "        x = 1\n",
    "    else:\n",
    "        x = 0\n",
    "    if x == y:\n",
    "        correct += 1\n",
    "    else:\n",
    "        wrong += 1\n",
    "print correct, wrong\n",
    "print 'accuracy: ' , correct / float(correct + wrong)"
   ]
  },
  {
   "cell_type": "code",
   "execution_count": null,
   "metadata": {
    "collapsed": false
   },
   "outputs": [],
   "source": [
    "sum(y_pred11 == 0)\n",
    "print out_X.shape\n",
    "print y_train1[:20]\n",
    "y_pred11[:20]"
   ]
  },
  {
   "cell_type": "code",
   "execution_count": null,
   "metadata": {
    "collapsed": false
   },
   "outputs": [],
   "source": [
    "#del mlpmodel\n",
    "n_cols = 64\n",
    "mlpmodel = Sequential()\n",
    "mlpmodel.add(Dense(500,activation='sigmoid',input_shape=(n_cols,)))\n",
    "mlpmodel.add(Dense(500,activation='sigmoid'))\n",
    "mlpmodel.add(Dense(500,activation='sigmoid'))\n",
    "mlpmodel.add(Dense(500,activation='sigmoid'))\n",
    "mlpmodel.add(Dense(2,activation='softmax'))\n",
    "sgd = SGD(lr=0.5)\n",
    "#mlpmodel.compile(optimizer=sgd,loss='categorical_crossentropy',metrics=['accuracy'])\n",
    "mlpmodel.compile(optimizer='adam',loss='categorical_crossentropy',metrics=['accuracy'])"
   ]
  },
  {
   "cell_type": "code",
   "execution_count": null,
   "metadata": {
    "collapsed": false
   },
   "outputs": [],
   "source": [
    "#mlpmodel.get_config()"
   ]
  },
  {
   "cell_type": "code",
   "execution_count": null,
   "metadata": {
    "collapsed": false
   },
   "outputs": [],
   "source": [
    "y_train1_cat = to_categorical(y_train1)\n",
    "y_train1_cat[:10]"
   ]
  },
  {
   "cell_type": "code",
   "execution_count": null,
   "metadata": {
    "collapsed": false
   },
   "outputs": [],
   "source": [
    "fit = mlpmodel.fit(out_X,y_train1_cat,nb_epoch=10,callbacks=[early_stop])"
   ]
  },
  {
   "cell_type": "code",
   "execution_count": null,
   "metadata": {
    "collapsed": false
   },
   "outputs": [],
   "source": [
    "#fit.history\n",
    "mlpmodel.get_config()\n",
    "os.chdir(\"/home/test/Sentiment-Analysis\")\n",
    "mlpmodel.save('mlpmodel_500_4_sig.h5')"
   ]
  },
  {
   "cell_type": "code",
   "execution_count": null,
   "metadata": {
    "collapsed": true
   },
   "outputs": [],
   "source": [
    "y_pred21 = mlpmodel.predict(out_X)"
   ]
  },
  {
   "cell_type": "code",
   "execution_count": null,
   "metadata": {
    "collapsed": false
   },
   "outputs": [],
   "source": [
    "y_pred22 = []\n",
    "for val in y_pred21:\n",
    "    if val[0] > 0.5763:\n",
    "        y_pred22.append(1)\n",
    "    else:\n",
    "        y_pred22.append(0)\n",
    "\n",
    "y_pred22 = np.array(y_pred22)\n",
    "y_pred22[:10]"
   ]
  },
  {
   "cell_type": "code",
   "execution_count": null,
   "metadata": {
    "collapsed": false
   },
   "outputs": [],
   "source": [
    "y_pred21[:10] , y_train1[:10], y_pred22[:10]"
   ]
  },
  {
   "cell_type": "code",
   "execution_count": null,
   "metadata": {
    "collapsed": false
   },
   "outputs": [],
   "source": [
    "acc = mlpmodel.evaluate(out_X,y_train1_cat)"
   ]
  },
  {
   "cell_type": "code",
   "execution_count": null,
   "metadata": {
    "collapsed": false
   },
   "outputs": [],
   "source": [
    "print mlpmodel.metrics_names\n",
    "acc"
   ]
  },
  {
   "cell_type": "markdown",
   "metadata": {},
   "source": [
    "### End"
   ]
  },
  {
   "cell_type": "code",
   "execution_count": 22,
   "metadata": {
    "collapsed": false
   },
   "outputs": [
    {
     "name": "stdout",
     "output_type": "stream",
     "text": [
      "/home/test/kaggle\n"
     ]
    },
    {
     "data": {
      "text/plain": [
       "u'/home/test/kaggle'"
      ]
     },
     "execution_count": 22,
     "metadata": {},
     "output_type": "execute_result"
    }
   ],
   "source": [
    "# Load the training csv\n",
    "path = r'/home/test/kaggle'\n",
    "os.chdir(path)\n",
    "print path\n",
    "testdata = pd.read_csv('test.csv')\n",
    "\n",
    "%pwd"
   ]
  },
  {
   "cell_type": "code",
   "execution_count": 23,
   "metadata": {
    "collapsed": false
   },
   "outputs": [],
   "source": [
    "#out = testdata['is_duplicate'][y1:y2]\n",
    "#out_cat = to_categorical(out)\n",
    "#print out.shape , out_cat.shape\n",
    "#print out_cat[:10]\n",
    "#print out[:10]"
   ]
  },
  {
   "cell_type": "code",
   "execution_count": 24,
   "metadata": {
    "collapsed": true
   },
   "outputs": [],
   "source": [
    "#del testdata, data_2"
   ]
  },
  {
   "cell_type": "code",
   "execution_count": 25,
   "metadata": {
    "collapsed": false
   },
   "outputs": [
    {
     "name": "stdout",
     "output_type": "stream",
     "text": [
      "2345796\n"
     ]
    }
   ],
   "source": [
    "process = 'q1'\n",
    "print len(testdata)\n",
    "y1 =  800000\n",
    "y2 = 1100000"
   ]
  },
  {
   "cell_type": "code",
   "execution_count": 26,
   "metadata": {
    "collapsed": false
   },
   "outputs": [],
   "source": [
    "if process == 'q1':\n",
    "    data_1 = testdata['question1'][y1:y2]\n",
    "else:\n",
    "    data_2 = testdata['question2'][y1:y2]\n"
   ]
  },
  {
   "cell_type": "code",
   "execution_count": 27,
   "metadata": {
    "collapsed": false
   },
   "outputs": [],
   "source": [
    "# Build numpy arary\n",
    "\n",
    "if process == 'q1':\n",
    "    timesteps = 10\n",
    "    data_1_t = np.array(data_1,dtype='str')\n",
    "else:\n",
    "    timesteps = 50\n",
    "    data_2_t = np.array(data_2,dtype='str')\n"
   ]
  },
  {
   "cell_type": "code",
   "execution_count": 29,
   "metadata": {
    "collapsed": false
   },
   "outputs": [],
   "source": [
    "#del  all_2"
   ]
  },
  {
   "cell_type": "code",
   "execution_count": 30,
   "metadata": {
    "collapsed": false
   },
   "outputs": [
    {
     "name": "stderr",
     "output_type": "stream",
     "text": [
      "/home/test/miniconda2/lib/python2.7/site-packages/ipykernel/__main__.py:21: UnicodeWarning: Unicode equal comparison failed to convert both arguments to Unicode - interpreting them as being unequal\n"
     ]
    }
   ],
   "source": [
    "# Build vector representation of sequence of words in a sentence/question\n",
    "\n",
    "if process == 'q1':\n",
    "    all_1 = data_vector(data_1_t)\n",
    "else:\n",
    "    all_2 = data_vector(data_2_t)"
   ]
  },
  {
   "cell_type": "code",
   "execution_count": 31,
   "metadata": {
    "collapsed": false
   },
   "outputs": [
    {
     "name": "stdout",
     "output_type": "stream",
     "text": [
      "(300000, 10, 300)\n"
     ]
    }
   ],
   "source": [
    "#print sys.getsizeof(data_1)\n",
    "#len(data_1)\n",
    "if process == 'q1':\n",
    "    print all_1.shape\n",
    "else:\n",
    "    print all_2.shape"
   ]
  },
  {
   "cell_type": "code",
   "execution_count": 32,
   "metadata": {
    "collapsed": true
   },
   "outputs": [],
   "source": [
    "os.chdir(\"/home/test/Sentiment-Analysis\")\n",
    "if process == 'q1':    \n",
    "    q1_model = load_model('model_q1_lstm_rand42.h5')\n",
    "    model = q1_model\n",
    "else:\n",
    "    q2_model = load_model('model_q2_lstm_rand42.h5')\n",
    "    model = q2_model"
   ]
  },
  {
   "cell_type": "code",
   "execution_count": 33,
   "metadata": {
    "collapsed": false
   },
   "outputs": [
    {
     "name": "stdout",
     "output_type": "stream",
     "text": [
      "12\n"
     ]
    }
   ],
   "source": [
    "w = model.get_weights()\n",
    "print len(model.layers[1].get_weights())\n",
    "model1 = Sequential()\n",
    "model1.add(LSTM(64,input_shape=(timesteps,dimensions),return_sequences=True,weights=model.layers[0].get_weights()))\n",
    "model1.add(LSTM(32,input_shape=(timesteps,dimensions),return_sequences=True,weights=model.layers[1].get_weights()))\n",
    "#model1.add(LSTM(300,return_sequences=True))\n",
    "model1.add(Activation('linear'))"
   ]
  },
  {
   "cell_type": "code",
   "execution_count": 34,
   "metadata": {
    "collapsed": false
   },
   "outputs": [],
   "source": [
    "if process == 'q1':\n",
    "    test_pred1 = model1.predict(all_1)\n",
    "else:\n",
    "    test_pred2 = model1.predict(all_2)"
   ]
  },
  {
   "cell_type": "code",
   "execution_count": 35,
   "metadata": {
    "collapsed": false
   },
   "outputs": [
    {
     "name": "stdout",
     "output_type": "stream",
     "text": [
      "384000128\n"
     ]
    }
   ],
   "source": [
    "if process == 'q1':\n",
    "    print sys.getsizeof(test_pred1)\n",
    "else:\n",
    "    print sys.getsizeof(test_pred2)"
   ]
  },
  {
   "cell_type": "code",
   "execution_count": 36,
   "metadata": {
    "collapsed": false
   },
   "outputs": [
    {
     "name": "stdout",
     "output_type": "stream",
     "text": [
      "(300000, 32) (300000, 32) (300000, 64)\n"
     ]
    }
   ],
   "source": [
    "out_add = test_pred1[:,9,:] + test_pred2[:,49,:]\n",
    "out_mul = test_pred1[:,9,:] * test_pred2[:,49,:]\n",
    "out_X = np.hstack((out_add,out_mul))\n",
    "#out_X = np.hstack((out_q1[:,9,:],out_q2[:,49,:]))\n",
    "\n",
    "#del out_tot\n",
    "print out_add.shape, out_mul.shape, out_X.shape"
   ]
  },
  {
   "cell_type": "code",
   "execution_count": 37,
   "metadata": {
    "collapsed": true
   },
   "outputs": [],
   "source": [
    "os.chdir(\"/home/test/Sentiment-Analysis\")\n",
    "mlpmodel = load_model('mlpmodel_500_4.h5')"
   ]
  },
  {
   "cell_type": "code",
   "execution_count": 38,
   "metadata": {
    "collapsed": false
   },
   "outputs": [
    {
     "data": {
      "text/plain": [
       "(300000, 2)"
      ]
     },
     "execution_count": 38,
     "metadata": {},
     "output_type": "execute_result"
    }
   ],
   "source": [
    "out_Y = mlpmodel.predict(out_X)\n",
    "out_Y.shape"
   ]
  },
  {
   "cell_type": "code",
   "execution_count": 39,
   "metadata": {
    "collapsed": false
   },
   "outputs": [
    {
     "data": {
      "text/plain": [
       "array([[ 0.68286592,  0.31713402],\n",
       "       [ 0.58997864,  0.41002131],\n",
       "       [ 0.58910626,  0.41089374],\n",
       "       [ 0.57755715,  0.42244285],\n",
       "       [ 0.57765812,  0.42234191],\n",
       "       [ 0.57751191,  0.42248803],\n",
       "       [ 0.57752103,  0.42247894],\n",
       "       [ 0.74375045,  0.25624958],\n",
       "       [ 0.79111314,  0.20888688],\n",
       "       [ 0.57828379,  0.42171624]], dtype=float32)"
      ]
     },
     "execution_count": 39,
     "metadata": {},
     "output_type": "execute_result"
    }
   ],
   "source": [
    "out_Y[20:30]"
   ]
  },
  {
   "cell_type": "code",
   "execution_count": null,
   "metadata": {
    "collapsed": false
   },
   "outputs": [],
   "source": [
    "print sys.getsizeof(test_pred2)\n",
    "#del w2vmodel\n",
    "test_pred2.shape"
   ]
  },
  {
   "cell_type": "code",
   "execution_count": null,
   "metadata": {
    "collapsed": false
   },
   "outputs": [],
   "source": [
    "test_pred1.shape , test_pred2.shape"
   ]
  },
  {
   "cell_type": "code",
   "execution_count": null,
   "metadata": {
    "collapsed": false
   },
   "outputs": [],
   "source": [
    "#del all_2"
   ]
  },
  {
   "cell_type": "code",
   "execution_count": null,
   "metadata": {
    "collapsed": false
   },
   "outputs": [],
   "source": [
    "correct, wrong = 0, 0\n",
    "pred , test  = out_Y[:1000] , out_cat[:1000]\n",
    "\n",
    "for i in range(len(pred)):\n",
    "    \n",
    "    if pred[i,0] > pred[i,1]:\n",
    "        res = 0\n",
    "        if test[i,0] == 1:\n",
    "            correct += 1\n",
    "        else:\n",
    "            wrong += 1\n",
    "    else:\n",
    "        res = 1\n",
    "        if test[i,1] == 1:\n",
    "            correct += 1\n",
    "        else:\n",
    "            wrong += 1\n",
    "    #print res\n",
    "print correct, wrong\n",
    "print 'accuracy: ' , correct / float(correct + wrong)"
   ]
  },
  {
   "cell_type": "code",
   "execution_count": null,
   "metadata": {
    "collapsed": false
   },
   "outputs": [],
   "source": []
  },
  {
   "cell_type": "code",
   "execution_count": null,
   "metadata": {
    "collapsed": false
   },
   "outputs": [],
   "source": [
    "path = r'/home/test/kaggle'\n",
    "os.chdir(path)\n",
    "try:\n",
    "    temp = pd.read_csv('out1.csv')\n",
    "    ind = len(temp)\n",
    "except:\n",
    "    ind = 0\n",
    "\n"
   ]
  },
  {
   "cell_type": "code",
   "execution_count": 40,
   "metadata": {
    "collapsed": false
   },
   "outputs": [
    {
     "data": {
      "text/plain": [
       "300000"
      ]
     },
     "execution_count": 40,
     "metadata": {},
     "output_type": "execute_result"
    }
   ],
   "source": [
    "val =  [(val0, val1) for val0, val1 in out_Y]\n",
    "len(val)"
   ]
  },
  {
   "cell_type": "code",
   "execution_count": 41,
   "metadata": {
    "collapsed": false
   },
   "outputs": [
    {
     "data": {
      "text/plain": [
       "[(0.5775758, 0.42242426), (0.57819539, 0.42180461), (0.67050749, 0.32949245)]"
      ]
     },
     "execution_count": 41,
     "metadata": {},
     "output_type": "execute_result"
    }
   ],
   "source": [
    "val[:3]"
   ]
  },
  {
   "cell_type": "code",
   "execution_count": 42,
   "metadata": {
    "collapsed": false
   },
   "outputs": [
    {
     "data": {
      "text/plain": [
       "300000"
      ]
     },
     "execution_count": 42,
     "metadata": {},
     "output_type": "execute_result"
    }
   ],
   "source": [
    "ind = 800000\n",
    "ind\n",
    "len(val)"
   ]
  },
  {
   "cell_type": "code",
   "execution_count": 43,
   "metadata": {
    "collapsed": false
   },
   "outputs": [
    {
     "name": "stdout",
     "output_type": "stream",
     "text": [
      "write =  300000\n",
      "index:  1100000\n"
     ]
    }
   ],
   "source": [
    "path = r'/home/test/kaggle'\n",
    "os.chdir(path)\n",
    "str1 = ''\n",
    "cnt1 = 0\n",
    "with open('out22.csv','a') as f:\n",
    "    for c,d in val:\n",
    "        str1 = ''.join((str(ind),\",\",str(c),\",\",str(d),'\\n'))\n",
    "        f.write(str1)\n",
    "        cnt1 += 1\n",
    "        ind += 1\n",
    "#print str1\n",
    "#len(str1)\n",
    "print 'write = ' , str(cnt1)\n",
    "print 'index: ' , ind"
   ]
  },
  {
   "cell_type": "code",
   "execution_count": null,
   "metadata": {
    "collapsed": false
   },
   "outputs": [],
   "source": [
    "\n",
    "#del all_2"
   ]
  },
  {
   "cell_type": "markdown",
   "metadata": {},
   "source": []
  },
  {
   "cell_type": "code",
   "execution_count": 7,
   "metadata": {
    "collapsed": false
   },
   "outputs": [],
   "source": [
    "path = r'/home/test/kaggle'\n",
    "os.chdir(path)\n",
    "data1 = pd.read_csv('out1.csv',index_col=False)\n",
    "data21 = pd.read_csv('out21.csv',index_col=False)\n",
    "data22 = pd.read_csv('out22.csv',index_col=False)\n",
    "data23 = pd.read_csv('out23.csv',index_col=False)\n",
    "data3 = pd.read_csv('out3.csv',index_col=False)\n",
    "final = pd.concat([data1,data21,data22,data23,data3],ignore_index=True)"
   ]
  },
  {
   "cell_type": "code",
   "execution_count": 8,
   "metadata": {
    "collapsed": false
   },
   "outputs": [
    {
     "data": {
      "text/html": [
       "<div>\n",
       "<table border=\"1\" class=\"dataframe\">\n",
       "  <thead>\n",
       "    <tr style=\"text-align: right;\">\n",
       "      <th></th>\n",
       "      <th>test_id</th>\n",
       "      <th>zero</th>\n",
       "      <th>one</th>\n",
       "    </tr>\n",
       "  </thead>\n",
       "  <tbody>\n",
       "    <tr>\n",
       "      <th>count</th>\n",
       "      <td>500000.000000</td>\n",
       "      <td>500000.000000</td>\n",
       "      <td>500000.000000</td>\n",
       "    </tr>\n",
       "    <tr>\n",
       "      <th>mean</th>\n",
       "      <td>249999.500000</td>\n",
       "      <td>0.626384</td>\n",
       "      <td>0.373616</td>\n",
       "    </tr>\n",
       "    <tr>\n",
       "      <th>std</th>\n",
       "      <td>144337.711635</td>\n",
       "      <td>0.069959</td>\n",
       "      <td>0.069959</td>\n",
       "    </tr>\n",
       "    <tr>\n",
       "      <th>min</th>\n",
       "      <td>0.000000</td>\n",
       "      <td>0.577354</td>\n",
       "      <td>0.000000</td>\n",
       "    </tr>\n",
       "    <tr>\n",
       "      <th>25%</th>\n",
       "      <td>124999.750000</td>\n",
       "      <td>0.577586</td>\n",
       "      <td>0.319033</td>\n",
       "    </tr>\n",
       "    <tr>\n",
       "      <th>50%</th>\n",
       "      <td>249999.500000</td>\n",
       "      <td>0.585548</td>\n",
       "      <td>0.414452</td>\n",
       "    </tr>\n",
       "    <tr>\n",
       "      <th>75%</th>\n",
       "      <td>374999.250000</td>\n",
       "      <td>0.680967</td>\n",
       "      <td>0.422414</td>\n",
       "    </tr>\n",
       "    <tr>\n",
       "      <th>max</th>\n",
       "      <td>499999.000000</td>\n",
       "      <td>1.000000</td>\n",
       "      <td>0.422646</td>\n",
       "    </tr>\n",
       "  </tbody>\n",
       "</table>\n",
       "</div>"
      ],
      "text/plain": [
       "             test_id           zero            one\n",
       "count  500000.000000  500000.000000  500000.000000\n",
       "mean   249999.500000       0.626384       0.373616\n",
       "std    144337.711635       0.069959       0.069959\n",
       "min         0.000000       0.577354       0.000000\n",
       "25%    124999.750000       0.577586       0.319033\n",
       "50%    249999.500000       0.585548       0.414452\n",
       "75%    374999.250000       0.680967       0.422414\n",
       "max    499999.000000       1.000000       0.422646"
      ]
     },
     "execution_count": 8,
     "metadata": {},
     "output_type": "execute_result"
    }
   ],
   "source": [
    "data1.describe()"
   ]
  },
  {
   "cell_type": "code",
   "execution_count": 9,
   "metadata": {
    "collapsed": false
   },
   "outputs": [
    {
     "name": "stdout",
     "output_type": "stream",
     "text": [
      "   test_id      zero       one\n",
      "0        0  0.745404  0.254596\n",
      "1        1  0.664289  0.335711\n"
     ]
    },
    {
     "data": {
      "text/plain": [
       "2345796"
      ]
     },
     "execution_count": 9,
     "metadata": {},
     "output_type": "execute_result"
    }
   ],
   "source": [
    "print final[:2]\n",
    "val1 = [(a,b,c) for a,b,c in np.array(final)]\n",
    "len(val1)\n",
    "#val1"
   ]
  },
  {
   "cell_type": "code",
   "execution_count": 11,
   "metadata": {
    "collapsed": false
   },
   "outputs": [
    {
     "name": "stdout",
     "output_type": "stream",
     "text": [
      "write =  2345796\n"
     ]
    }
   ],
   "source": [
    "path = r'/home/test/kaggle'\n",
    "os.chdir(path)\n",
    "str1 = ''\n",
    "cnt1 = 0\n",
    "with open('final2.csv','w') as f:\n",
    "    for id,Z,O in val1:\n",
    "        if cnt1 == 0:\n",
    "            str1 = ''.join((\"test_id,is_duplicate\",'\\n'))\n",
    "            f.write(str1)\n",
    "        if Z > 0.577586:\n",
    "            num = 0\n",
    "        else:\n",
    "            num = 1\n",
    "        #f.write(str1)\n",
    "        \n",
    "        str1 = ''.join((str(int(id)),\",\",str(num),'\\n'))\n",
    "        f.write(str1)\n",
    "        cnt1 += 1\n",
    "\n",
    "#print str1\n",
    "#len(str1)\n",
    "print 'write = ' , str(cnt1)\n"
   ]
  },
  {
   "cell_type": "code",
   "execution_count": 29,
   "metadata": {
    "collapsed": false
   },
   "outputs": [],
   "source": [
    "path = r'/home/test/kaggle'\n",
    "os.chdir(path)\n",
    "temp = pd.read_csv('final.csv',index_col=False)"
   ]
  },
  {
   "cell_type": "code",
   "execution_count": 60,
   "metadata": {
    "collapsed": false
   },
   "outputs": [
    {
     "name": "stdout",
     "output_type": "stream",
     "text": [
      "<class 'pandas.core.frame.DataFrame'>\n",
      "RangeIndex: 2345796 entries, 0 to 2345795\n",
      "Data columns (total 2 columns):\n",
      "test_id         int64\n",
      "is_duplicate    int64\n",
      "dtypes: int64(2)\n",
      "memory usage: 35.8 MB\n"
     ]
    }
   ],
   "source": [
    "#temp.describe()\n",
    "temp.info()\n",
    "#temp.loc[80]"
   ]
  },
  {
   "cell_type": "code",
   "execution_count": 61,
   "metadata": {
    "collapsed": true
   },
   "outputs": [],
   "source": [
    "temp.to_csv('final3.csv',index=False)"
   ]
  },
  {
   "cell_type": "code",
   "execution_count": null,
   "metadata": {
    "collapsed": true
   },
   "outputs": [],
   "source": []
  }
 ],
 "metadata": {
  "anaconda-cloud": {},
  "kernelspec": {
   "display_name": "Python [conda root]",
   "language": "python",
   "name": "conda-root-py"
  },
  "language_info": {
   "codemirror_mode": {
    "name": "ipython",
    "version": 2
   },
   "file_extension": ".py",
   "mimetype": "text/x-python",
   "name": "python",
   "nbconvert_exporter": "python",
   "pygments_lexer": "ipython2",
   "version": "2.7.12"
  }
 },
 "nbformat": 4,
 "nbformat_minor": 2
}
